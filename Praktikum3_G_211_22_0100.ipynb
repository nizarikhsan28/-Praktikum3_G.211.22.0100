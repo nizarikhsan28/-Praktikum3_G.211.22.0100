{
  "nbformat": 4,
  "nbformat_minor": 0,
  "metadata": {
    "colab": {
      "provenance": []
    },
    "kernelspec": {
      "name": "python3",
      "display_name": "Python 3"
    },
    "language_info": {
      "name": "python"
    }
  },
  "cells": [
    {
      "cell_type": "code",
      "source": [
        "def convert(listAngka):\n",
        "    result = []\n",
        "\n",
        "    # Iterasi untuk setiap karakter dalam input_list\n",
        "    for char in listAngka:\n",
        "        # Tambahkan karakter ke dalam list result\n",
        "        result.append(char)\n",
        "\n",
        "    # Gabungkan karakter-karakter dalam list result menjadi sebuah string\n",
        "    return ''.join(result)\n",
        "\n",
        "# Contoh penggunaan\n",
        "listAngka = ['p', 'r', 'o', 'g', 'r', 'a', 'm', 'm', 'i', 'n', 'g']\n",
        "output = convert(listAngka)\n",
        "\n",
        "# Menampilkan output\n",
        "print(output)\n"
      ],
      "metadata": {
        "colab": {
          "base_uri": "https://localhost:8080/"
        },
        "id": "2Qt6aHz1zg5N",
        "outputId": "0b6119a5-01b4-4350-af4f-373a6d1c72bf"
      },
      "execution_count": 21,
      "outputs": [
        {
          "output_type": "stream",
          "name": "stdout",
          "text": [
            "programming\n"
          ]
        }
      ]
    }
  ]
}